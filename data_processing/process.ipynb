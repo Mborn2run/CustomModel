{
 "cells": [
  {
   "cell_type": "code",
   "execution_count": 1,
   "metadata": {},
   "outputs": [],
   "source": [
    "import pandas as pd\n",
    "import numpy as np\n",
    "import matplotlib.pyplot as plt"
   ]
  },
  {
   "cell_type": "code",
   "execution_count": 2,
   "metadata": {},
   "outputs": [
    {
     "data": {
      "text/html": [
       "<div>\n",
       "<style scoped>\n",
       "    .dataframe tbody tr th:only-of-type {\n",
       "        vertical-align: middle;\n",
       "    }\n",
       "\n",
       "    .dataframe tbody tr th {\n",
       "        vertical-align: top;\n",
       "    }\n",
       "\n",
       "    .dataframe thead th {\n",
       "        text-align: right;\n",
       "    }\n",
       "</style>\n",
       "<table border=\"1\" class=\"dataframe\">\n",
       "  <thead>\n",
       "    <tr style=\"text-align: right;\">\n",
       "      <th></th>\n",
       "      <th>timestamp</th>\n",
       "      <th>site_id</th>\n",
       "      <th>airTemperature</th>\n",
       "      <th>cloudCoverage</th>\n",
       "      <th>dewTemperature</th>\n",
       "      <th>precipDepth1HR</th>\n",
       "      <th>precipDepth6HR</th>\n",
       "      <th>seaLvlPressure</th>\n",
       "      <th>windDirection</th>\n",
       "      <th>windSpeed</th>\n",
       "    </tr>\n",
       "  </thead>\n",
       "  <tbody>\n",
       "    <tr>\n",
       "      <th>0</th>\n",
       "      <td>2016-01-01 00:00:00</td>\n",
       "      <td>Panther</td>\n",
       "      <td>19.4</td>\n",
       "      <td>NaN</td>\n",
       "      <td>19.4</td>\n",
       "      <td>0.0</td>\n",
       "      <td>NaN</td>\n",
       "      <td>NaN</td>\n",
       "      <td>0.0</td>\n",
       "      <td>0.0</td>\n",
       "    </tr>\n",
       "    <tr>\n",
       "      <th>1</th>\n",
       "      <td>2016-01-01 01:00:00</td>\n",
       "      <td>Panther</td>\n",
       "      <td>21.1</td>\n",
       "      <td>6.0</td>\n",
       "      <td>21.1</td>\n",
       "      <td>-1.0</td>\n",
       "      <td>NaN</td>\n",
       "      <td>1019.4</td>\n",
       "      <td>0.0</td>\n",
       "      <td>0.0</td>\n",
       "    </tr>\n",
       "    <tr>\n",
       "      <th>2</th>\n",
       "      <td>2016-01-01 02:00:00</td>\n",
       "      <td>Panther</td>\n",
       "      <td>21.1</td>\n",
       "      <td>NaN</td>\n",
       "      <td>21.1</td>\n",
       "      <td>0.0</td>\n",
       "      <td>NaN</td>\n",
       "      <td>1018.8</td>\n",
       "      <td>210.0</td>\n",
       "      <td>1.5</td>\n",
       "    </tr>\n",
       "    <tr>\n",
       "      <th>3</th>\n",
       "      <td>2016-01-01 03:00:00</td>\n",
       "      <td>Panther</td>\n",
       "      <td>20.6</td>\n",
       "      <td>NaN</td>\n",
       "      <td>20.0</td>\n",
       "      <td>0.0</td>\n",
       "      <td>NaN</td>\n",
       "      <td>1018.1</td>\n",
       "      <td>0.0</td>\n",
       "      <td>0.0</td>\n",
       "    </tr>\n",
       "    <tr>\n",
       "      <th>4</th>\n",
       "      <td>2016-01-01 04:00:00</td>\n",
       "      <td>Panther</td>\n",
       "      <td>21.1</td>\n",
       "      <td>NaN</td>\n",
       "      <td>20.6</td>\n",
       "      <td>0.0</td>\n",
       "      <td>NaN</td>\n",
       "      <td>1019.0</td>\n",
       "      <td>290.0</td>\n",
       "      <td>1.5</td>\n",
       "    </tr>\n",
       "  </tbody>\n",
       "</table>\n",
       "</div>"
      ],
      "text/plain": [
       "             timestamp  site_id  airTemperature  cloudCoverage  \\\n",
       "0  2016-01-01 00:00:00  Panther            19.4            NaN   \n",
       "1  2016-01-01 01:00:00  Panther            21.1            6.0   \n",
       "2  2016-01-01 02:00:00  Panther            21.1            NaN   \n",
       "3  2016-01-01 03:00:00  Panther            20.6            NaN   \n",
       "4  2016-01-01 04:00:00  Panther            21.1            NaN   \n",
       "\n",
       "   dewTemperature  precipDepth1HR  precipDepth6HR  seaLvlPressure  \\\n",
       "0            19.4             0.0             NaN             NaN   \n",
       "1            21.1            -1.0             NaN          1019.4   \n",
       "2            21.1             0.0             NaN          1018.8   \n",
       "3            20.0             0.0             NaN          1018.1   \n",
       "4            20.6             0.0             NaN          1019.0   \n",
       "\n",
       "   windDirection  windSpeed  \n",
       "0            0.0        0.0  \n",
       "1            0.0        0.0  \n",
       "2          210.0        1.5  \n",
       "3            0.0        0.0  \n",
       "4          290.0        1.5  "
      ]
     },
     "execution_count": 2,
     "metadata": {},
     "output_type": "execute_result"
    }
   ],
   "source": [
    "df = pd.read_csv('../data/building-data-genome-project-2/data/weather/weather.csv')\n",
    "df.head()"
   ]
  },
  {
   "cell_type": "code",
   "execution_count": 3,
   "metadata": {},
   "outputs": [],
   "source": [
    "# 将每个地区的天气数据区分开来, 保存到不同的csv文件中\n",
    "unique_val = df['site_id'].unique()\n",
    "for i in unique_val:\n",
    "    new_df = (df[df['site_id'] == i]).reset_index(drop=True)\n",
    "    new_df.to_csv(f'../data/building-data-genome-project-2/data/processing/weather/{i}.csv')\n",
    "del df, new_df"
   ]
  },
  {
   "cell_type": "code",
   "execution_count": 4,
   "metadata": {},
   "outputs": [],
   "source": [
    "electricity = pd.read_csv('../data/building-data-genome-project-2/data/meters/cleaned/electricity_cleaned.csv').iloc[:,1:]\n",
    "electricity = electricity.loc[:, (electricity.isna().mean() < 0.05) & (electricity.mean() > 20)]\n",
    "electricity.to_csv('../data/building-data-genome-project-2/data/processing/electricity.csv', index=False)"
   ]
  },
  {
   "cell_type": "code",
   "execution_count": 6,
   "metadata": {},
   "outputs": [],
   "source": [
    "# 将每个建筑物的电力数据区分开来, 保存到不同的csv文件中\n",
    "for val in unique_val:\n",
    "    selected_columns = []\n",
    "    for col in electricity.columns:\n",
    "        if val in col:\n",
    "            selected_columns.append(col)\n",
    "    if len(selected_columns) <= 20:\n",
    "        continue\n",
    "    electricity_selected = electricity.loc[:,selected_columns]\n",
    "    electricity_selected.to_csv(f'../data/building-data-genome-project-2/data/processing/electricity/{val}.csv', index=False)\n"
   ]
  },
  {
   "cell_type": "code",
   "execution_count": 14,
   "metadata": {},
   "outputs": [
    {
     "data": {
      "text/plain": [
       "Hog_other_Noma            0\n",
       "Hog_services_Adrianna     0\n",
       "Hog_lodging_Shanti        0\n",
       "Hog_education_Jordan      0\n",
       "Hog_other_Tobias          0\n",
       "Hog_office_Lavon          0\n",
       "Hog_office_Almeda         0\n",
       "Hog_office_Merilyn        0\n",
       "Hog_education_Donnie      0\n",
       "Hog_office_Shawnna        0\n",
       "Hog_office_Valda          0\n",
       "Hog_public_Kevin          0\n",
       "Hog_education_Casandra    0\n",
       "Hog_office_Sydney         0\n",
       "Hog_office_Shawna         0\n",
       "Hog_office_Miriam         0\n",
       "Hog_education_Madge       0\n",
       "Hog_food_Morgan           0\n",
       "Hog_industrial_Quentin    0\n",
       "Hog_education_Rachael     0\n",
       "Hog_assembly_Colette      0\n",
       "Hog_office_Napoleon       0\n",
       "Hog_office_Bessie         0\n",
       "Hog_office_Gustavo        0\n",
       "Hog_office_Bill           0\n",
       "Hog_office_Mike           0\n",
       "Hog_office_Betsy          0\n",
       "Hog_lodging_Ora           0\n",
       "Hog_office_Mary           0\n",
       "Hog_office_Shon           0\n",
       "Hog_parking_Jean          0\n",
       "Hog_industrial_Jeremy     0\n",
       "Hog_lodging_Nikki         0\n",
       "Hog_public_Octavia        0\n",
       "Hog_office_Lizzie         0\n",
       "Hog_office_Myles          0\n",
       "Hog_education_Jewel       0\n",
       "Hog_lodging_Francisco     0\n",
       "Hog_assembly_Dona         0\n",
       "Hog_industrial_Joanne     0\n",
       "Hog_parking_Shannon       0\n",
       "Hog_public_Gerard         0\n",
       "Hog_office_Sherrie        0\n",
       "Hog_public_Crystal        0\n",
       "Hog_lodging_Hal           0\n",
       "Hog_assembly_Jasmine      0\n",
       "Hog_office_Denita         0\n",
       "dtype: int64"
      ]
     },
     "execution_count": 14,
     "metadata": {},
     "output_type": "execute_result"
    }
   ],
   "source": [
    "ele = pd.read_csv('../data/building-data-genome-project-2/data/processing/electricity/Hog.csv').iloc[:,1:]\n",
    "nan_counts = ele.isna().sum()\n",
    "columns_with_nan = nan_counts[nan_counts == 0]\n",
    "columns_with_nan"
   ]
  },
  {
   "cell_type": "code",
   "execution_count": 9,
   "metadata": {},
   "outputs": [
    {
     "name": "stdout",
     "output_type": "stream",
     "text": [
      "timestamp         0\n",
      "airTemperature    0\n",
      "dewTemperature    0\n",
      "windSpeed         0\n",
      "dtype: int64\n",
      "(------------------------)\n",
      "0\n",
      "Index([], dtype='int64')\n"
     ]
    }
   ],
   "source": [
    "import pandas as pd\n",
    "wea = pd.read_csv('../data/building-data-genome-project-2/data/processing/weather/Hog.csv').iloc[:,1:]\n",
    "ele = pd.read_csv('../data/building-data-genome-project-2/data/processing/electricity/Hog.csv')\n",
    "column_name = ['timestamp', 'airTemperature', 'dewTemperature', 'windSpeed']\n",
    "nan_counts = wea[column_name].isna().sum()\n",
    "ele_nan = ele['Hog_education_Jordan'].isna().sum()\n",
    "print(nan_counts)\n",
    "print('(------------------------)')\n",
    "print(ele_nan)\n",
    "nan_positions = wea.index[wea['dewTemperature'].isna()]\n",
    "\n",
    "print(nan_positions)\n",
    "# columns_with_nan = nan_counts[nan_counts == 0]\n",
    "# columns_with_nan"
   ]
  }
 ],
 "metadata": {
  "kernelspec": {
   "display_name": "deeplearning",
   "language": "python",
   "name": "python3"
  },
  "language_info": {
   "codemirror_mode": {
    "name": "ipython",
    "version": 3
   },
   "file_extension": ".py",
   "mimetype": "text/x-python",
   "name": "python",
   "nbconvert_exporter": "python",
   "pygments_lexer": "ipython3",
   "version": "3.9.17"
  }
 },
 "nbformat": 4,
 "nbformat_minor": 2
}
